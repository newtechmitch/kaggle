{
 "cells": [
  {
   "cell_type": "code",
   "execution_count": 1,
   "id": "d9abe14f",
   "metadata": {
    "_cell_guid": "b1076dfc-b9ad-4769-8c92-a6c4dae69d19",
    "_uuid": "8f2839f25d086af736a60e9eeb907d3b93b6e0e5",
    "execution": {
     "iopub.execute_input": "2023-01-03T13:13:19.192825Z",
     "iopub.status.busy": "2023-01-03T13:13:19.192308Z",
     "iopub.status.idle": "2023-01-03T13:13:20.453916Z",
     "shell.execute_reply": "2023-01-03T13:13:20.452683Z"
    },
    "papermill": {
     "duration": 1.271839,
     "end_time": "2023-01-03T13:13:20.456937",
     "exception": false,
     "start_time": "2023-01-03T13:13:19.185098",
     "status": "completed"
    },
    "tags": []
   },
   "outputs": [],
   "source": [
    "import numpy as np # linear algebra\n",
    "import pandas as pd # data processing, CSV file I/O (e.g. pd.read_csv)\n",
    "from itertools import islice\n",
    "\n",
    "train_df = pd.read_csv(\"/kaggle/input/nlp-getting-started/train.csv\")\n",
    "test_df = pd.read_csv(\"/kaggle/input/nlp-getting-started/test.csv\")\n",
    "\n",
    "y = train_df['target']\n",
    "feature_columns = ['keyword', 'location', 'text']\n",
    "X = train_df[feature_columns]\n",
    "\n",
    "from sklearn.model_selection import train_test_split\n",
    "train_X, val_X, train_y, val_y = train_test_split(X, y, test_size=0.20, random_state=1)\n",
    "\n",
    "train_X = train_X.fillna('NoValue') # we do this at the top ...\n",
    "val_X = val_X.fillna('NoValue') # we do this at the top ...\n",
    "#train_X.describe()\n",
    "#val_X.head(100)\n",
    "#train_y.head(10)\n",
    "#val_y.head(10)\n",
    "\n"
   ]
  },
  {
   "cell_type": "code",
   "execution_count": 2,
   "id": "43c52f1d",
   "metadata": {
    "execution": {
     "iopub.execute_input": "2023-01-03T13:13:20.466981Z",
     "iopub.status.busy": "2023-01-03T13:13:20.466511Z",
     "iopub.status.idle": "2023-01-03T13:13:30.215353Z",
     "shell.execute_reply": "2023-01-03T13:13:30.214042Z"
    },
    "papermill": {
     "duration": 9.757219,
     "end_time": "2023-01-03T13:13:30.218344",
     "exception": false,
     "start_time": "2023-01-03T13:13:20.461125",
     "status": "completed"
    },
    "tags": []
   },
   "outputs": [],
   "source": [
    "import re #library for regular expression operations\n",
    "import string #for string operations\n",
    "import nltk\n",
    "#nltk.download('stopwords')\n",
    "from nltk.corpus import stopwords\n",
    "from nltk.stem import PorterStemmer\n",
    "from nltk.tokenize import TweetTokenizer\n",
    "import html\n",
    "\n",
    "def process_tweet_str(s):\n",
    "    # started with code from DeepLearning AI NLP course.\n",
    "    # this is optimized for tweets\n",
    "    stemmer = PorterStemmer()\n",
    "    stopwords_english = stopwords.words('english')\n",
    "    #clean character encoding\n",
    "    s = re.sub(r'[^\\x00-\\x7F]','', s)\n",
    "    #unescape html \n",
    "    s = html.unescape(s)\n",
    "    # remove stock market tickers like $GE\n",
    "    s = re.sub(r'\\$\\w*', '', s)\n",
    "    # remove old style retweet text \"RT\"\n",
    "    s = re.sub(r'^RT[\\s]+', '', s)\n",
    "    # remove hyperlinks    \n",
    "    s = re.sub(r'https?://[^\\s\\n\\r]+', '', s)\n",
    "    # remove some common words\n",
    "    common_words = ['via','like','build','get','would','one','two','feel','lol','fuck','take','way','may','first','latest'\n",
    "                'want','make','back','see','know','let','look','come','got','still','say','think','great','pleas','amp']\n",
    "    s = ' '.join(i for i in s.split() if i not in common_words)\n",
    "    # remove hashtags\n",
    "    # only removing the hash # sign from the word\n",
    "    s = re.sub(r'#', '', s)\n",
    "    # tokenize tweets\n",
    "    tokenizer = TweetTokenizer(preserve_case=False, strip_handles=True,\n",
    "                               reduce_len=True)\n",
    "    tokens = tokenizer.tokenize(s)\n",
    "    result = []\n",
    "    for word in tokens:\n",
    "        if (word not in stopwords_english   # remove stopwords\n",
    "                and word not in string.punctuation  # remove punctuation\n",
    "                    and not word.isdigit()):  \n",
    "            stem_word = stemmer.stem(word)  # stemming word\n",
    "            result.append(stem_word)\n",
    "\n",
    "    return result\n",
    "\n",
    "def process_df(df): \n",
    "    result = {}\n",
    "    for index, df_row in df.iterrows():\n",
    "        result_row ={}\n",
    "        result_row['text'] = process_tweet_str(df_row['text'])\n",
    "        result_row['keyword'] = process_tweet_str(df_row['keyword'])\n",
    "        result_row['location'] = process_tweet_str(df_row['location'])\n",
    "        result[index]=result_row\n",
    "    return result\n",
    "\n",
    "processed_words_train_X = process_df(train_X)\n",
    "\n",
    "#for id, row in all_preprocessed_tweets.items():\n",
    "#    print(f'all_preprocessed_tweets[{id}]=\\\"{row}\\\"')"
   ]
  },
  {
   "cell_type": "code",
   "execution_count": 3,
   "id": "e8d85b5e",
   "metadata": {
    "execution": {
     "iopub.execute_input": "2023-01-03T13:13:30.228697Z",
     "iopub.status.busy": "2023-01-03T13:13:30.228239Z",
     "iopub.status.idle": "2023-01-03T13:13:30.324699Z",
     "shell.execute_reply": "2023-01-03T13:13:30.323167Z"
    },
    "papermill": {
     "duration": 0.104765,
     "end_time": "2023-01-03T13:13:30.327369",
     "exception": false,
     "start_time": "2023-01-03T13:13:30.222604",
     "status": "completed"
    },
    "tags": []
   },
   "outputs": [],
   "source": [
    "def build_freqs(processed_rows, targets):\n",
    "    freqs = {'text':{}, 'keyword':{}, 'location':{}}\n",
    "    for id, row in processed_rows.items():\n",
    "        target=targets[id]\n",
    "        for t,f in freqs.items():\n",
    "            for word in row[t]:\n",
    "                pair = (word, target)\n",
    "                if pair in f:\n",
    "                    f[pair] += 1\n",
    "                else:\n",
    "                    f[pair] = 1\n",
    "    return freqs\n",
    "\n",
    "freqs = build_freqs(processed_words_train_X, train_y)\n",
    "\n",
    "\n",
    "#for freq_type in ['text','keyword','location']:\n",
    "#    for key,value in islice(freqs[freq_type].items(),10): \n",
    "#        print(f'freqs[\\'{freq_type}\\'][{key}]={value}')"
   ]
  },
  {
   "cell_type": "code",
   "execution_count": 4,
   "id": "eeaaa85b",
   "metadata": {
    "execution": {
     "iopub.execute_input": "2023-01-03T13:13:30.336941Z",
     "iopub.status.busy": "2023-01-03T13:13:30.336498Z",
     "iopub.status.idle": "2023-01-03T13:13:30.553773Z",
     "shell.execute_reply": "2023-01-03T13:13:30.552514Z"
    },
    "papermill": {
     "duration": 0.224877,
     "end_time": "2023-01-03T13:13:30.556139",
     "exception": false,
     "start_time": "2023-01-03T13:13:30.331262",
     "status": "completed"
    },
    "tags": []
   },
   "outputs": [
    {
     "data": {
      "text/html": [
       "<div>\n",
       "<style scoped>\n",
       "    .dataframe tbody tr th:only-of-type {\n",
       "        vertical-align: middle;\n",
       "    }\n",
       "\n",
       "    .dataframe tbody tr th {\n",
       "        vertical-align: top;\n",
       "    }\n",
       "\n",
       "    .dataframe thead th {\n",
       "        text-align: right;\n",
       "    }\n",
       "</style>\n",
       "<table border=\"1\" class=\"dataframe\">\n",
       "  <thead>\n",
       "    <tr style=\"text-align: right;\">\n",
       "      <th></th>\n",
       "      <th>keyword_freq_sum_positive</th>\n",
       "      <th>keyword_freq_sum_negative</th>\n",
       "      <th>location_freq_sum_positive</th>\n",
       "      <th>location_freq_sum_negative</th>\n",
       "      <th>text_freq_sum_positive</th>\n",
       "      <th>text_freq_sum_negative</th>\n",
       "    </tr>\n",
       "  </thead>\n",
       "  <tbody>\n",
       "    <tr>\n",
       "      <th>count</th>\n",
       "      <td>6090.000000</td>\n",
       "      <td>6090.000000</td>\n",
       "      <td>6090.000000</td>\n",
       "      <td>6090.000000</td>\n",
       "      <td>6090.000000</td>\n",
       "      <td>6090.000000</td>\n",
       "    </tr>\n",
       "    <tr>\n",
       "      <th>mean</th>\n",
       "      <td>0.471100</td>\n",
       "      <td>0.434319</td>\n",
       "      <td>6.246634</td>\n",
       "      <td>8.252545</td>\n",
       "      <td>3.984893</td>\n",
       "      <td>3.039901</td>\n",
       "    </tr>\n",
       "    <tr>\n",
       "      <th>std</th>\n",
       "      <td>5.022587</td>\n",
       "      <td>3.905103</td>\n",
       "      <td>71.613598</td>\n",
       "      <td>94.797212</td>\n",
       "      <td>45.907654</td>\n",
       "      <td>30.830694</td>\n",
       "    </tr>\n",
       "    <tr>\n",
       "      <th>min</th>\n",
       "      <td>0.000000</td>\n",
       "      <td>0.000000</td>\n",
       "      <td>0.000000</td>\n",
       "      <td>0.000000</td>\n",
       "      <td>0.000000</td>\n",
       "      <td>0.000000</td>\n",
       "    </tr>\n",
       "    <tr>\n",
       "      <th>25%</th>\n",
       "      <td>0.000000</td>\n",
       "      <td>0.000000</td>\n",
       "      <td>0.000000</td>\n",
       "      <td>0.000000</td>\n",
       "      <td>0.000000</td>\n",
       "      <td>0.000000</td>\n",
       "    </tr>\n",
       "    <tr>\n",
       "      <th>50%</th>\n",
       "      <td>0.000000</td>\n",
       "      <td>0.000000</td>\n",
       "      <td>0.000000</td>\n",
       "      <td>0.000000</td>\n",
       "      <td>0.000000</td>\n",
       "      <td>0.000000</td>\n",
       "    </tr>\n",
       "    <tr>\n",
       "      <th>75%</th>\n",
       "      <td>0.000000</td>\n",
       "      <td>0.000000</td>\n",
       "      <td>0.000000</td>\n",
       "      <td>0.000000</td>\n",
       "      <td>0.000000</td>\n",
       "      <td>0.000000</td>\n",
       "    </tr>\n",
       "    <tr>\n",
       "      <th>max</th>\n",
       "      <td>131.000000</td>\n",
       "      <td>64.000000</td>\n",
       "      <td>873.000000</td>\n",
       "      <td>1155.000000</td>\n",
       "      <td>1286.000000</td>\n",
       "      <td>729.000000</td>\n",
       "    </tr>\n",
       "  </tbody>\n",
       "</table>\n",
       "</div>"
      ],
      "text/plain": [
       "       keyword_freq_sum_positive  keyword_freq_sum_negative  \\\n",
       "count                6090.000000                6090.000000   \n",
       "mean                    0.471100                   0.434319   \n",
       "std                     5.022587                   3.905103   \n",
       "min                     0.000000                   0.000000   \n",
       "25%                     0.000000                   0.000000   \n",
       "50%                     0.000000                   0.000000   \n",
       "75%                     0.000000                   0.000000   \n",
       "max                   131.000000                  64.000000   \n",
       "\n",
       "       location_freq_sum_positive  location_freq_sum_negative  \\\n",
       "count                 6090.000000                 6090.000000   \n",
       "mean                     6.246634                    8.252545   \n",
       "std                     71.613598                   94.797212   \n",
       "min                      0.000000                    0.000000   \n",
       "25%                      0.000000                    0.000000   \n",
       "50%                      0.000000                    0.000000   \n",
       "75%                      0.000000                    0.000000   \n",
       "max                    873.000000                 1155.000000   \n",
       "\n",
       "       text_freq_sum_positive  text_freq_sum_negative  \n",
       "count             6090.000000             6090.000000  \n",
       "mean                 3.984893                3.039901  \n",
       "std                 45.907654               30.830694  \n",
       "min                  0.000000                0.000000  \n",
       "25%                  0.000000                0.000000  \n",
       "50%                  0.000000                0.000000  \n",
       "75%                  0.000000                0.000000  \n",
       "max               1286.000000              729.000000  "
      ]
     },
     "execution_count": 4,
     "metadata": {},
     "output_type": "execute_result"
    }
   ],
   "source": [
    "# add new feature in train_X: the sum of positive freqs\n",
    "# add new feature in train_X: the sum of negative freqs\n",
    "\n",
    "train_X = train_X.assign(keyword_freq_sum_positive=0)\n",
    "train_X = train_X.assign(keyword_freq_sum_negative=0)\n",
    "train_X = train_X.assign(location_freq_sum_positive=0)\n",
    "train_X = train_X.assign(location_freq_sum_negative=0)\n",
    "train_X = train_X.assign(text_freq_sum_positive=0)\n",
    "train_X = train_X.assign(text_freq_sum_negative=0)\n",
    "\n",
    "def calc_freq_sums(words, freq_type):\n",
    "    positive_sum = 0\n",
    "    negative_sum = 0\n",
    "    for word in words:\n",
    "        positive_sum+= freqs[freq_type].get((word,1),0)\n",
    "        negative_sum+= freqs[freq_type].get((word,0),0)\n",
    "    return {'positive': positive_sum, 'negative': negative_sum}\n",
    "\n",
    "\n",
    "for i, row in islice(train_X.iterrows(),100):\n",
    "    #------- keyword ---------\n",
    "    freq_sums = calc_freq_sums(processed_words_train_X[i]['keyword'], 'keyword')\n",
    "    train_X.loc[i,'keyword_freq_sum_positive']= freq_sums['positive']\n",
    "    train_X.loc[i,'keyword_freq_sum_negative']= freq_sums['negative']\n",
    "    #------- location ---------\n",
    "    freq_sums = calc_freq_sums(processed_words_train_X[i]['location'], 'location')\n",
    "    train_X.loc[i,'location_freq_sum_positive']= freq_sums['positive']\n",
    "    train_X.loc[i,'location_freq_sum_negative']= freq_sums['negative']\n",
    "    #------- text ---------\n",
    "    freq_sums = calc_freq_sums(processed_words_train_X[i]['text'], 'text')\n",
    "    train_X.loc[i,'text_freq_sum_positive']= freq_sums['positive']\n",
    "    train_X.loc[i,'text_freq_sum_negative']= freq_sums['negative']\n",
    "\n",
    "for i, row in islice(train_X.iterrows(),0):\n",
    "    print (f'i={i}')\n",
    "    print(row)\n",
    "train_X.describe()"
   ]
  },
  {
   "cell_type": "code",
   "execution_count": 5,
   "id": "86708213",
   "metadata": {
    "execution": {
     "iopub.execute_input": "2023-01-03T13:13:30.566399Z",
     "iopub.status.busy": "2023-01-03T13:13:30.565977Z",
     "iopub.status.idle": "2023-01-03T13:13:40.704513Z",
     "shell.execute_reply": "2023-01-03T13:13:40.703273Z"
    },
    "papermill": {
     "duration": 10.147189,
     "end_time": "2023-01-03T13:13:40.707461",
     "exception": false,
     "start_time": "2023-01-03T13:13:30.560272",
     "status": "completed"
    },
    "tags": []
   },
   "outputs": [
    {
     "data": {
      "image/png": "[encoded data removed]",
      "text/plain": [
       "<Figure size 576x576 with 1 Axes>"
      ]
     },
     "metadata": {
      "needs_background": "light"
     },
     "output_type": "display_data"
    },
    {
     "name": "stdout",
     "output_type": "stream",
     "text": [
      "The cost after training is 0.67880503.\n",
      "The resulting vector of weights is [-0.25432925, 0.01590321, -0.00227467, -0.0256174, 0.01960693, 0.02105071, -0.02526826]\n"
     ]
    }
   ],
   "source": [
    "def sigmoid(z): \n",
    "    h = 1 / (1 + np.exp(-z))\n",
    "    return h\n",
    "\n",
    "def gradientDescent(x, y, theta, alpha, num_iters):\n",
    "    m = x.shape[0]\n",
    "    \n",
    "    i_plot = range(0,num_iters)\n",
    "    J_plot=[]\n",
    "    \n",
    "    for i in range(0, num_iters):\n",
    "        z = np.dot(x,theta)\n",
    "        h = sigmoid(z)        \n",
    "        # calculate the cost function\n",
    "        J = -1/m * ( np.dot(y.T,np.log(h))+np.dot((1-y).T, np.log(1-h)))\n",
    "        J_plot.append(float(J))\n",
    "        # update the weights theta\n",
    "        theta = theta - alpha / m * np.dot(x.T, h-y)\n",
    "    J = float(J)\n",
    "\n",
    "    if True:\n",
    "        import matplotlib.pyplot as plt \n",
    "        fig2, ax2 = plt.subplots(figsize = (8, 8))\n",
    "        # Plot a dot for each pair of words\n",
    "        ax2.scatter(i_plot, J_plot)\n",
    "        plt.xlabel(\"Iteration\")\n",
    "        plt.ylabel(\"Cost Function J\")\n",
    "        plt.show()\n",
    "   \n",
    "    \n",
    "    return J, theta\n",
    "\n",
    "\n",
    "#logistic regression\n",
    "train_X = train_X.assign(bias=1)\n",
    "X = train_X[['bias', 'keyword_freq_sum_positive', 'keyword_freq_sum_negative', 'location_freq_sum_positive', 'location_freq_sum_negative', 'text_freq_sum_positive', 'text_freq_sum_negative']].values\n",
    "Y = train_y.values\n",
    "Y = Y.reshape(Y.shape[0],1)\n",
    "J, theta = gradientDescent(X, Y, np.zeros((7, 1)), 1e-3, 10000)\n",
    "print(f\"The cost after training is {J:.8f}.\")\n",
    "print(f\"The resulting vector of weights is {[round(t, 8) for t in np.squeeze(theta)]}\")\n",
    "\n"
   ]
  },
  {
   "cell_type": "code",
   "execution_count": 6,
   "id": "9a4eeca7",
   "metadata": {
    "execution": {
     "iopub.execute_input": "2023-01-03T13:13:40.718286Z",
     "iopub.status.busy": "2023-01-03T13:13:40.717873Z",
     "iopub.status.idle": "2023-01-03T13:13:40.729015Z",
     "shell.execute_reply": "2023-01-03T13:13:40.727802Z"
    },
    "papermill": {
     "duration": 0.019092,
     "end_time": "2023-01-03T13:13:40.731291",
     "exception": false,
     "start_time": "2023-01-03T13:13:40.712199",
     "status": "completed"
    },
    "tags": []
   },
   "outputs": [],
   "source": [
    "def extract_features(df_row, freqs):\n",
    "    freq_sums_keyword = calc_freq_sums(process_tweet_str(df_row['keyword']), 'keyword')\n",
    "    freq_sums_location = calc_freq_sums(process_tweet_str(df_row['location']), 'location')\n",
    "    freq_sums_text = calc_freq_sums(process_tweet_str(df_row['text']), 'text')\n",
    "    x = np.zeros((1, 7))     \n",
    "    x[0,0] = 1 #bias\n",
    "    x[0,1] = freq_sums_keyword['positive']\n",
    "    x[0,2] = freq_sums_keyword['negative']\n",
    "    x[0,3] = freq_sums_location['positive']\n",
    "    x[0,4] = freq_sums_location['negative']\n",
    "    x[0,5] = freq_sums_text['positive']\n",
    "    x[0,6] = freq_sums_text['negative']\n",
    "    assert(x.shape == (1, 7))\n",
    "    return x\n",
    "\n",
    "\n",
    "def extract_features_old(tweet, freqs):\n",
    "    word_l = process_tweet(tweet)\n",
    "    x = np.zeros((1, 3))     \n",
    "    #bias term is set to 1\n",
    "    x[0,0] = 1 \n",
    "    for word in word_l:\n",
    "        x[0,1] += freqs.get((word,1.0),0)\n",
    "        x[0,2] += freqs.get((word,0.0),0)\n",
    "    assert(x.shape == (1, 3))\n",
    "    return x"
   ]
  },
  {
   "cell_type": "code",
   "execution_count": 7,
   "id": "6c5ce0e7",
   "metadata": {
    "execution": {
     "iopub.execute_input": "2023-01-03T13:13:40.741977Z",
     "iopub.status.busy": "2023-01-03T13:13:40.741513Z",
     "iopub.status.idle": "2023-01-03T13:13:40.747664Z",
     "shell.execute_reply": "2023-01-03T13:13:40.746464Z"
    },
    "papermill": {
     "duration": 0.014047,
     "end_time": "2023-01-03T13:13:40.749844",
     "exception": false,
     "start_time": "2023-01-03T13:13:40.735797",
     "status": "completed"
    },
    "tags": []
   },
   "outputs": [],
   "source": [
    "def predict_tweet(tweet_row, freqs, theta):\n",
    "    # extract the features of the tweet and store it into x\n",
    "    x = extract_features(tweet_row, freqs)\n",
    "    \n",
    "    # make the prediction using x and theta\n",
    "    y_pred = sigmoid(np.dot(x, theta))\n",
    "\n",
    "    return y_pred"
   ]
  },
  {
   "cell_type": "code",
   "execution_count": 8,
   "id": "6b4161e7",
   "metadata": {
    "execution": {
     "iopub.execute_input": "2023-01-03T13:13:40.760560Z",
     "iopub.status.busy": "2023-01-03T13:13:40.760132Z",
     "iopub.status.idle": "2023-01-03T13:13:43.196329Z",
     "shell.execute_reply": "2023-01-03T13:13:43.195078Z"
    },
    "papermill": {
     "duration": 2.444735,
     "end_time": "2023-01-03T13:13:43.199078",
     "exception": false,
     "start_time": "2023-01-03T13:13:40.754343",
     "status": "completed"
    },
    "tags": []
   },
   "outputs": [],
   "source": [
    "def predict_multiple_tweets(x,  freqs, theta):\n",
    "   # the list for storing predictions\n",
    "    y_hat = []\n",
    "\n",
    "    #for i, row in islice(x.iterrows(),10):\n",
    "    for i, row in x.iterrows():\n",
    "        # get the label prediction for the tweet\n",
    "        y_pred = predict_tweet(row, freqs, theta)\n",
    "        if y_pred > 0.5:\n",
    "            # append 1.0 to the list\n",
    "            y_hat.append(1)\n",
    "        else:\n",
    "            # append 0 to the list\n",
    "            y_hat.append(0)\n",
    "    y_hat =np.array(y_hat)    \n",
    "    return y_hat\n",
    "\n",
    "val_predictions = predict_multiple_tweets(val_X, freqs, theta)"
   ]
  },
  {
   "cell_type": "code",
   "execution_count": 9,
   "id": "21931dac",
   "metadata": {
    "execution": {
     "iopub.execute_input": "2023-01-03T13:13:43.210802Z",
     "iopub.status.busy": "2023-01-03T13:13:43.210395Z",
     "iopub.status.idle": "2023-01-03T13:13:43.233018Z",
     "shell.execute_reply": "2023-01-03T13:13:43.231635Z"
    },
    "papermill": {
     "duration": 0.031934,
     "end_time": "2023-01-03T13:13:43.235964",
     "exception": false,
     "start_time": "2023-01-03T13:13:43.204030",
     "status": "completed"
    },
    "tags": []
   },
   "outputs": [
    {
     "name": "stdout",
     "output_type": "stream",
     "text": [
      "[[693 189]\n",
      " [191 450]]\n",
      "              precision    recall  f1-score   support\n",
      "\n",
      "           0       0.78      0.79      0.78       882\n",
      "           1       0.70      0.70      0.70       641\n",
      "\n",
      "    accuracy                           0.75      1523\n",
      "   macro avg       0.74      0.74      0.74      1523\n",
      "weighted avg       0.75      0.75      0.75      1523\n",
      "\n"
     ]
    }
   ],
   "source": [
    "from sklearn.metrics import precision_score, recall_score, fbeta_score, classification_report, confusion_matrix\n",
    "c = confusion_matrix(val_y.values, val_predictions)\n",
    "print(c)\n",
    "calc_precision = c[1,1]/(c[0,1]+c[1,1])\n",
    "#print(f'calc_precision={calc_precision}')\n",
    "calc_recall = c[1,1]/(c[1,0]+c[1,1])\n",
    "#print(f'calc_recall={calc_recall}')\n",
    "\n",
    "precision = precision_score(val_y.values, val_predictions)\n",
    "recall = recall_score(val_y.values, val_predictions)\n",
    "f2 = fbeta_score(val_y.values, val_predictions, beta=2)\n",
    "print(classification_report(val_y.values, val_predictions))\n",
    "\n",
    "#print(f'precision={precision}')\n",
    "#print(f'recall={recall}')\n",
    "#print(f'f2={f2}')"
   ]
  },
  {
   "cell_type": "code",
   "execution_count": 10,
   "id": "38870dd9",
   "metadata": {
    "execution": {
     "iopub.execute_input": "2023-01-03T13:13:43.247733Z",
     "iopub.status.busy": "2023-01-03T13:13:43.246765Z",
     "iopub.status.idle": "2023-01-03T13:13:43.336745Z",
     "shell.execute_reply": "2023-01-03T13:13:43.335341Z"
    },
    "papermill": {
     "duration": 0.098853,
     "end_time": "2023-01-03T13:13:43.339623",
     "exception": false,
     "start_time": "2023-01-03T13:13:43.240770",
     "status": "completed"
    },
    "tags": []
   },
   "outputs": [
    {
     "name": "stdout",
     "output_type": "stream",
     "text": [
      "FALSE NEGATIVE\n",
      "---------------------\n",
      "id=7464\n",
      "keyword=wounds\n",
      "processed_keyword=['wound']\n",
      "location=cody, austin follows ?*?\n",
      "processed_location=['codi', 'austin', 'follow']\n",
      "text=Crawling in my skin\n",
      "These wounds they will not hea\n",
      "processed_text -->['crawl', 'skin', 'wound', 'hea']\n",
      "prediction -->[[0.48022588]]\n",
      "features -->[[ 1. 28. 29.  8.  8. 37. 37.]]\n"
     ]
    }
   ],
   "source": [
    "def list_misclassified(x,pred_y, y):\n",
    "    #pred_y = pred_y.reshape(pred_y.shape[0],1)\n",
    "    #y = y.reshape(y.shape[0],1)\n",
    "    #print (pred_y.shape)\n",
    "    #print (y.shape)\n",
    "    misclassified = {'fp':[], 'fn':[]}    \n",
    "    i=0\n",
    "    for id, row in x.iterrows():\n",
    "        if (pred_y[i] != y[i]): \n",
    "            if (pred_y[i]==1):\n",
    "                misclassified['fp'].append(id)\n",
    "            else: \n",
    "                misclassified['fn'].append(id)\n",
    "        i+=1\n",
    "    return misclassified\n",
    "\n",
    "misclassified_tweets = list_misclassified(val_X, list(val_predictions), list(val_y))           \n",
    "n = 1\n",
    "print(\"FALSE NEGATIVE\")\n",
    "for j in range(n):\n",
    "    id = misclassified_tweets['fn'][j]\n",
    "    row = val_X.loc[id]\n",
    "    keyword = row['keyword']\n",
    "    processed_keyword = process_tweet_str(keyword)\n",
    "    location = row['location']\n",
    "    processed_location = process_tweet_str(location)\n",
    "    text = row['text']\n",
    "    processed_text = process_tweet_str(text)\n",
    "    p = predict_tweet(row, freqs, theta)\n",
    "    features = extract_features(row, freqs)\n",
    "    print('---------------------')\n",
    "    print(f'id={id}')\n",
    "    print(f'keyword={keyword}')\n",
    "    print(f'processed_keyword={processed_keyword}')\n",
    "    print(f'location={location}')\n",
    "    print(f'processed_location={processed_location}')\n",
    "    print(f'text={text}')\n",
    "    print(f'processed_text -->{processed_text}')\n",
    "    print(f'prediction -->{p}')\n",
    "    print(f'features -->{features}')"
   ]
  },
  {
   "cell_type": "code",
   "execution_count": 11,
   "id": "992e36df",
   "metadata": {
    "execution": {
     "iopub.execute_input": "2023-01-03T13:13:43.351872Z",
     "iopub.status.busy": "2023-01-03T13:13:43.350707Z",
     "iopub.status.idle": "2023-01-03T13:13:48.523680Z",
     "shell.execute_reply": "2023-01-03T13:13:48.522484Z"
    },
    "papermill": {
     "duration": 5.18271,
     "end_time": "2023-01-03T13:13:48.527195",
     "exception": false,
     "start_time": "2023-01-03T13:13:43.344485",
     "status": "completed"
    },
    "tags": []
   },
   "outputs": [
    {
     "name": "stdout",
     "output_type": "stream",
     "text": [
      "1438 positives out of id        3263\n",
      "target    3263\n",
      "dtype: int64 predictions\n"
     ]
    }
   ],
   "source": [
    "test_df = test_df.fillna('NoValue')\n",
    "predictions = predict_multiple_tweets(test_df, freqs, theta)\n",
    "my_submission = pd.DataFrame({'id': test_df['id'].values, 'target': predictions})\n",
    "my_submission.to_csv('submission.csv', index=False)\n",
    "count = my_submission.count()\n",
    "s = my_submission['target'].sum()\n",
    "print(f'{s} positives out of {count} predictions')"
   ]
  }
 ],
 "metadata": {
  "kernelspec": {
   "display_name": "Python 3",
   "language": "python",
   "name": "python3"
  },
  "language_info": {
   "codemirror_mode": {
    "name": "ipython",
    "version": 3
   },
   "file_extension": ".py",
   "mimetype": "text/x-python",
   "name": "python",
   "nbconvert_exporter": "python",
   "pygments_lexer": "ipython3",
   "version": "3.7.12"
  },
  "papermill": {
   "default_parameters": {},
   "duration": 40.85412,
   "end_time": "2023-01-03T13:13:49.459195",
   "environment_variables": {},
   "exception": null,
   "input_path": "__notebook__.ipynb",
   "output_path": "__notebook__.ipynb",
   "parameters": {},
   "start_time": "2023-01-03T13:13:08.605075",
   "version": "2.3.4"
  }
 },
 "nbformat": 4,
 "nbformat_minor": 5
}
